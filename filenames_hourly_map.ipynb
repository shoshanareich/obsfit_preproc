{
 "cells": [
  {
   "cell_type": "code",
   "execution_count": 1,
   "id": "12e9e89f-a212-41f6-9595-13c2f849ba28",
   "metadata": {},
   "outputs": [],
   "source": [
    "import os\n",
    "\n",
    "# user defined SWOT cycles\n",
    "cycles = [9, 10]\n",
    "sNx = 180\n",
    "Nx = 1080\n",
    "\n",
    "with open(\"all_runs\", \"w\", newline = '') as a:\n",
    "    for path, sub_dirs, files in os.walk('/nobackup/sreich/swot/SWOT_L2_LR_SSH_2.0/Expert'): #os.walk('./data/SWOT_SIMULATED_L2_KARIN_SSH_GLORYS_SCIENCE_V1'):\n",
    "\n",
    "        # check if file is in desired cycles\n",
    "        for filename in sorted(files):\n",
    "\n",
    "            file_cycle = int(filename.split('_')[5])\n",
    "\n",
    "            if file_cycle in cycles:\n",
    "                f = filename\n",
    "                # write to execute python script\n",
    "                a.write('source activate py38; python3 -u /home3/sreich/obsfit_preproc/swot_to_obsfit_final.py ')\n",
    "                a.write(str(f) + ' ' + str(Nx) + ' ' + str(sNx))\n",
    "        \n",
    "                # new line\n",
    "                a.write(os.linesep)\n",
    "                \n",
    "\n",
    "\n"
   ]
  },
  {
   "cell_type": "code",
   "execution_count": null,
   "id": "9c815042-ac51-4ddc-8b07-616e4da1b513",
   "metadata": {},
   "outputs": [],
   "source": []
  }
 ],
 "metadata": {
  "kernelspec": {
   "display_name": "Python 3 (ipykernel)",
   "language": "python",
   "name": "python3"
  },
  "language_info": {
   "codemirror_mode": {
    "name": "ipython",
    "version": 3
   },
   "file_extension": ".py",
   "mimetype": "text/x-python",
   "name": "python",
   "nbconvert_exporter": "python",
   "pygments_lexer": "ipython3",
   "version": "3.8.19"
  }
 },
 "nbformat": 4,
 "nbformat_minor": 5
}
